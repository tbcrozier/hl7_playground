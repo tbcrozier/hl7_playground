{
 "cells": [
  {
   "cell_type": "code",
   "execution_count": 9,
   "id": "391136ad",
   "metadata": {},
   "outputs": [
    {
     "name": "stdout",
     "output_type": "stream",
     "text": [
      "PID|||825913||Reese^John||19720606|U|||2788 Megan Road Suite 122^^West Robert^NH^8937401|8e4bc657|P|2.5\n",
      "'MSH|^~\\\\&|MySendingApp|MyFacility|TheirReceivingApp|TheirFacility|20250616154355||ADT^A01|8e4bc657|P|2.5\\rPID|||825913||Reese^John||19720606|U|||2788 Megan Road Suite 122^^West Robert^NH^89374'\n"
     ]
    }
   ],
   "source": [
    "# generate_hl7.py\n",
    "from hl7apy.core import Message\n",
    "from faker import Faker\n",
    "from datetime import datetime\n",
    "\n",
    "fake = Faker()\n",
    "\n",
    "# 1. Create an ADT^A01 message skeleton (v2.5)\n",
    "msg: Message = Message(\"ADT_A01\", version=\"2.5\")\n",
    "\n",
    "# 2. Populate MSH (message header) fields\n",
    "now = datetime.now().strftime(\"%Y%m%d%H%M%S\")\n",
    "msg.msh.msh_3 = \"MySendingApp\"\n",
    "msg.msh.msh_4 = \"MyFacility\"\n",
    "msg.msh.msh_5 = \"TheirReceivingApp\"\n",
    "msg.msh.msh_6 = \"TheirFacility\"\n",
    "msg.msh.msh_7 = now\n",
    "msg.msh.msh_9 = \"ADT^A01\"\n",
    "msg.msh.msh_10 = fake.uuid4()[:8]        # message control ID\n",
    "msg.msh.msh_11 = \"P\"                     # processing ID\n",
    "msg.msh.msh_12 = msg.version             # version ID\n",
    "\n",
    "# 3. Populate PID (patient identification) fields\n",
    "msg.add_segment(\"PID\")                   # ensure PID exists\n",
    "pid = msg.pid\n",
    "pid.pid_3 = str(fake.random_number(digits=6)) # patient ID\n",
    "# HL7 “family^given” format:\n",
    "pid.pid_5 = f\"{fake.last_name()}^{fake.first_name()}\"\n",
    "pid.pid_7 = fake.date_of_birth(minimum_age=0, maximum_age=90).strftime(\"%Y%m%d\")\n",
    "pid.pid_8 = fake.random_element(elements=[\"M\",\"F\",\"U\"])\n",
    "pid.pid_11 = f\"{fake.street_address()}^^{fake.city()}^{fake.state_abbr()}^{fake.zipcode()}\"\n",
    "\n",
    "# 4. Emit as an ER7 string\n",
    "hl7_text = msg.to_er7()\n",
    "print(hl7_text)\n",
    "\n",
    "\n",
    "raw = msg.to_er7()\n",
    "\n",
    "print(repr(raw))\n",
    "\n"
   ]
  },
  {
   "cell_type": "code",
   "execution_count": null,
   "id": "adb03c7d",
   "metadata": {},
   "outputs": [
    {
     "name": "stdout",
     "output_type": "stream",
     "text": [
      "Unexpected exception formatting exception. Falling back to standard exception\n"
     ]
    },
    {
     "name": "stderr",
     "output_type": "stream",
     "text": [
      "Traceback (most recent call last):\n",
      "  File \"/Users/ioa6870/repos/tbcrozier/hl7_playground/venv/lib/python3.9/site-packages/IPython/core/interactiveshell.py\", line 3550, in run_code\n",
      "  File \"/var/folders/84/xr6bz9h13x3d2qjk911267g80000gn/T/ipykernel_89232/2237488703.py\", line 25, in <module>\n",
      "    save_hl7_message(raw, 'adt_a01_001.hl7')\n",
      "  File \"/var/folders/84/xr6bz9h13x3d2qjk911267g80000gn/T/ipykernel_89232/2237488703.py\", line 11, in save_hl7_message\n",
      "    hl7_text = msg.to_er7(segment_terminator='\\r')\n",
      "AttributeError: 'str' object has no attribute 'to_er7'\n",
      "\n",
      "During handling of the above exception, another exception occurred:\n",
      "\n",
      "Traceback (most recent call last):\n",
      "  File \"/Users/ioa6870/repos/tbcrozier/hl7_playground/venv/lib/python3.9/site-packages/pygments/styles/__init__.py\", line 45, in get_style_by_name\n",
      "ModuleNotFoundError: No module named 'pygments.styles.default'\n",
      "\n",
      "During handling of the above exception, another exception occurred:\n",
      "\n",
      "Traceback (most recent call last):\n",
      "  File \"/Users/ioa6870/repos/tbcrozier/hl7_playground/venv/lib/python3.9/site-packages/IPython/core/interactiveshell.py\", line 2144, in showtraceback\n",
      "  File \"/Users/ioa6870/repos/tbcrozier/hl7_playground/venv/lib/python3.9/site-packages/IPython/core/ultratb.py\", line 1435, in structured_traceback\n",
      "  File \"/Users/ioa6870/repos/tbcrozier/hl7_playground/venv/lib/python3.9/site-packages/IPython/core/ultratb.py\", line 1326, in structured_traceback\n",
      "  File \"/Users/ioa6870/repos/tbcrozier/hl7_playground/venv/lib/python3.9/site-packages/IPython/core/ultratb.py\", line 1173, in structured_traceback\n",
      "  File \"/Users/ioa6870/repos/tbcrozier/hl7_playground/venv/lib/python3.9/site-packages/IPython/core/ultratb.py\", line 1063, in format_exception_as_a_whole\n",
      "  File \"/Users/ioa6870/repos/tbcrozier/hl7_playground/venv/lib/python3.9/site-packages/IPython/core/ultratb.py\", line 1114, in get_records\n",
      "  File \"/Users/ioa6870/repos/tbcrozier/hl7_playground/venv/lib/python3.9/site-packages/pygments/styles/__init__.py\", line 47, in get_style_by_name\n",
      "pygments.util.ClassNotFound: Could not find style module 'pygments.styles.default', though it should be builtin.\n"
     ]
    }
   ],
   "source": []
  }
 ],
 "metadata": {
  "kernelspec": {
   "display_name": "Python (kafka-hl7-test)",
   "language": "python",
   "name": "kafka-hl7-test"
  },
  "language_info": {
   "codemirror_mode": {
    "name": "ipython",
    "version": 3
   },
   "file_extension": ".py",
   "mimetype": "text/x-python",
   "name": "python",
   "nbconvert_exporter": "python",
   "pygments_lexer": "ipython3",
   "version": "3.9.6"
  }
 },
 "nbformat": 4,
 "nbformat_minor": 5
}
